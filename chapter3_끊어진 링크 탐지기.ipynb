{
 "cells": [
  {
   "cell_type": "code",
   "execution_count": 4,
   "metadata": {},
   "outputs": [
    {
     "name": "stdout",
     "output_type": "stream",
     "text": [
      "URL을 입력하세요 : http://www.networksciencelab.com\n",
      "\"DZPYDS\"로 가는 \"https://www.amazon.com/gp/product/1680501844\" 링크는 연결이 불가능합니다.\n",
      "\"DZCNAPY\"로 가는 \"https://www.amazon.com/gp/product/1680502697\" 링크는 연결이 불가능합니다.\n",
      "\"D. Zinoviev, D. Stefanescu, G. Fireman, and L. Swenson, \"Semantic networks of interests in online non-suicidal self-injury communities,\"\"로 가는 \"http://dhj.sagepub.com/content/2/2055207616642118.full\" 링크는 연결이 불가능합니다.\n",
      "\"D.Zinoviev, \"The Pain of Complexity,\"\"로 가는 \"http://www.mitpressjournals.org/doi/abs/10.1162/LEON_a_01271#.VzOvwHUrKzc\" 링크는 연결이 불가능합니다.\n",
      "\"D.Zinoviev, H.Benbrahim, G.Meszoely, and D.Stefanescu, \"Simulating resilience in transaction-oriented networks,\"\"로 가는 \"http://dl.acm.org/citation.cfm?id=2499974\" 링크는 연결이 불가능합니다.\n",
      "\"D.Zinoviev, \"Information diffusion in social networks,\"\"로 가는 \"http://dl.acm.org/citation.cfm?id=2208181\" 링크는 연결이 불가능합니다.\n",
      "\"D.Zinoviev and V.Duong, \"A game theoretical approach to broadcast  information diffusion in social networks,\"\"로 가는 \"http://dl.acm.org/citation.cfm?id=2048377\" 링크는 연결이 불가능합니다.\n",
      "\"D.Zinoviev and V.Duong, \"A game theoretical approach to modeling full-duplex information dissemination,\"\"로 가는 \"http://dl.acm.org/citation.cfm?id=1999462\" 링크는 연결이 불가능합니다.\n",
      "\"Email\"로 가는 \"mailto:dzinoviev@suffolk.edu\" 링크는 연결이 불가능합니다.\n",
      "\"LinkedIn\"로 가는 \"https://www.linkedin.com/pub/dmitry-zinoviev/4/a78/27b\" 링크는 연결이 불가능합니다.\n"
     ]
    }
   ],
   "source": [
    "import urllib.request, urllib.parse\n",
    "import bs4 as BeautifulSoup\n",
    "\n",
    "# URL 입력받기\n",
    "base = input(\"URL을 입력하세요 : \")\n",
    "# 오류처리 및 #urllib을 통해 입력받은 웹에서 소스 가져오기\n",
    "try:\n",
    "    page = urllib.request.urlopen(base)\n",
    "except:\n",
    "    print(\"%s를 열 수 없습니다.\" % base)\n",
    "    quit()\n",
    "soup = BeautifulSoup.BeautifulSoup(page)\n",
    "\n",
    "# link를 (name, url)로 구성된 튜플로 추출\n",
    "links = [(link.string, link[\"href\"])\n",
    "        for link in soup.find_all(\"a\")\n",
    "        if link.has_attr(\"href\")]\n",
    "\n",
    "# 각 링크 확인\n",
    "for name, url in links:\n",
    "    # base(입력받은 URL)과 대상 link를 URL형식으로 결합\n",
    "    join = urllib.parse.urljoin(base, url)\n",
    "    try:\n",
    "        page = urllib.request.urlopen(join)\n",
    "        page.close()\n",
    "    except:\n",
    "        print(\"\\\"%s\\\"로 가는 \\\"%s\\\" 링크는 연결이 불가능합니다.\" % (name, join))\n",
    "        broken = True\n",
    "\n",
    "# base의 모든 링크가 활성되어 있는지 확인\n",
    "if not broken:\n",
    "    print(\"%s 페이지의 링크는 모두 연결 가능합니다.\" % base)"
   ]
  }
 ],
 "metadata": {
  "kernelspec": {
   "display_name": "Python 3",
   "language": "python",
   "name": "python3"
  },
  "language_info": {
   "codemirror_mode": {
    "name": "ipython",
    "version": 3
   },
   "file_extension": ".py",
   "mimetype": "text/x-python",
   "name": "python",
   "nbconvert_exporter": "python",
   "pygments_lexer": "ipython3",
   "version": "3.7.7"
  }
 },
 "nbformat": 4,
 "nbformat_minor": 4
}
