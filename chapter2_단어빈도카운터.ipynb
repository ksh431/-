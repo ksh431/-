{
 "cells": [
  {
   "cell_type": "code",
   "execution_count": 1,
   "metadata": {},
   "outputs": [
    {
     "name": "stdout",
     "output_type": "stream",
     "text": [
      "Enter the URL: https://en.wikipedia.org/wiki/MESI_protocol\n",
      "[('a', 417), ('li', 282), ('class', 273), ('the', 256), ('span', 247), ('href', 173), ('th', 156), ('title', 146), ('b', 146), ('mw', 139)]\n"
     ]
    }
   ],
   "source": [
    "import urllib.request, re\n",
    "from collections import Counter\n",
    "\n",
    "# URL 입력받기\n",
    "url = input(\"Enter the URL: \") \n",
    "\n",
    "# URL 데이터 수신, 오류처리\n",
    "try:\n",
    "    page = urllib.request.urlopen(url)\n",
    "except:\n",
    "    print(\"Cannot open %s\"% url)\n",
    "    quit()\n",
    "    \n",
    "# 페이지 읽기, 부분 정규화\n",
    "doc = page.read().decode().lower()\n",
    "\n",
    "# 단어별로 텍스트 자르기\n",
    "words = re.findall(r\"\\w+\", doc)\n",
    "\n",
    "#단어를 세고 출력\n",
    "print(Counter(words).most_common(10))"
   ]
  },
  {
   "cell_type": "code",
   "execution_count": null,
   "metadata": {},
   "outputs": [],
   "source": []
  }
 ],
 "metadata": {
  "kernelspec": {
   "display_name": "Python 3",
   "language": "python",
   "name": "python3"
  },
  "language_info": {
   "codemirror_mode": {
    "name": "ipython",
    "version": 3
   },
   "file_extension": ".py",
   "mimetype": "text/x-python",
   "name": "python",
   "nbconvert_exporter": "python",
   "pygments_lexer": "ipython3",
   "version": "3.7.7"
  }
 },
 "nbformat": 4,
 "nbformat_minor": 4
}
